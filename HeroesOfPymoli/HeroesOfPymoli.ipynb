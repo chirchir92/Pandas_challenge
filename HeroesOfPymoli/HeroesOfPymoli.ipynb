{
 "cells": [
  {
   "cell_type": "code",
   "execution_count": 186,
   "id": "fe57a26c",
   "metadata": {},
   "outputs": [],
   "source": [
    "# dependencies and Setup\n",
    "import pandas as pd\n",
    "\n",
    "# load file to pandas\n",
    "pymoli_file = \"/Users/russ/Desktop/Pandas_challenge/HeroesOfPymoli/purchase_data.csv\"\n",
    "\n",
    "# read Purchasing File and store into Pandas data frame\n",
    "purchase_data = pd.read_csv(pymoli_file)"
   ]
  },
  {
   "cell_type": "markdown",
   "id": "4bb8bd91",
   "metadata": {},
   "source": [
    "## Player count"
   ]
  },
  {
   "cell_type": "code",
   "execution_count": 188,
   "id": "c9b5ecc9",
   "metadata": {},
   "outputs": [
    {
     "data": {
      "text/html": [
       "<div>\n",
       "<style scoped>\n",
       "    .dataframe tbody tr th:only-of-type {\n",
       "        vertical-align: middle;\n",
       "    }\n",
       "\n",
       "    .dataframe tbody tr th {\n",
       "        vertical-align: top;\n",
       "    }\n",
       "\n",
       "    .dataframe thead th {\n",
       "        text-align: right;\n",
       "    }\n",
       "</style>\n",
       "<table border=\"1\" class=\"dataframe\">\n",
       "  <thead>\n",
       "    <tr style=\"text-align: right;\">\n",
       "      <th></th>\n",
       "      <th>Total players</th>\n",
       "    </tr>\n",
       "  </thead>\n",
       "  <tbody>\n",
       "    <tr>\n",
       "      <th>0</th>\n",
       "      <td>576</td>\n",
       "    </tr>\n",
       "  </tbody>\n",
       "</table>\n",
       "</div>"
      ],
      "text/plain": [
       "   Total players\n",
       "0            576"
      ]
     },
     "execution_count": 188,
     "metadata": {},
     "output_type": "execute_result"
    }
   ],
   "source": [
    "# by using len() we cat return the count and hence find number of players\n",
    "player_count = {\"Total players\": [len(purchase_data[\"SN\"].value_counts())]}\n",
    "pd.DataFrame(player_count)"
   ]
  },
  {
   "cell_type": "markdown",
   "id": "5abe1607",
   "metadata": {},
   "source": [
    "# Purchasing Analysis (Total)"
   ]
  },
  {
   "cell_type": "code",
   "execution_count": 260,
   "id": "193bf240",
   "metadata": {},
   "outputs": [
    {
     "data": {
      "text/html": [
       "<div>\n",
       "<style scoped>\n",
       "    .dataframe tbody tr th:only-of-type {\n",
       "        vertical-align: middle;\n",
       "    }\n",
       "\n",
       "    .dataframe tbody tr th {\n",
       "        vertical-align: top;\n",
       "    }\n",
       "\n",
       "    .dataframe thead th {\n",
       "        text-align: right;\n",
       "    }\n",
       "</style>\n",
       "<table border=\"1\" class=\"dataframe\">\n",
       "  <thead>\n",
       "    <tr style=\"text-align: right;\">\n",
       "      <th></th>\n",
       "      <th>Number of unique items</th>\n",
       "      <th>Average price</th>\n",
       "      <th>Number of Purchases</th>\n",
       "      <th>Total Revenue</th>\n",
       "    </tr>\n",
       "  </thead>\n",
       "  <tbody>\n",
       "    <tr>\n",
       "      <th>0</th>\n",
       "      <td>179</td>\n",
       "      <td>3.05</td>\n",
       "      <td>780</td>\n",
       "      <td>2379.77</td>\n",
       "    </tr>\n",
       "  </tbody>\n",
       "</table>\n",
       "</div>"
      ],
      "text/plain": [
       "   Number of unique items  Average price  Number of Purchases  Total Revenue\n",
       "0                     179           3.05                  780        2379.77"
      ]
     },
     "execution_count": 260,
     "metadata": {},
     "output_type": "execute_result"
    }
   ],
   "source": [
    "# basic calculation to obtain unique items, avg price, no of purchases and total revenue\n",
    "# round function returns output with desired decimal places\n",
    "# set to a summary dataframe table\n",
    "unique = {\"Number of unique items\":[len(purchase_data[\"Item Name\"].value_counts())],\n",
    "                        \"Average price\": [round(purchase_data[\"Price\"].mean(), 2)],\n",
    "                        \"Number of Purchases\": [len(purchase_data)],\n",
    "                        \"Total Revenue\": [(purchase_data[\"Price\"].sum())]}\n",
    "pd.DataFrame(unique)"
   ]
  },
  {
   "cell_type": "markdown",
   "id": "531cb136",
   "metadata": {},
   "source": [
    "# Gender demographic"
   ]
  },
  {
   "cell_type": "code",
   "execution_count": 258,
   "id": "ec9c8050",
   "metadata": {},
   "outputs": [
    {
     "data": {
      "text/html": [
       "<div>\n",
       "<style scoped>\n",
       "    .dataframe tbody tr th:only-of-type {\n",
       "        vertical-align: middle;\n",
       "    }\n",
       "\n",
       "    .dataframe tbody tr th {\n",
       "        vertical-align: top;\n",
       "    }\n",
       "\n",
       "    .dataframe thead th {\n",
       "        text-align: right;\n",
       "    }\n",
       "</style>\n",
       "<table border=\"1\" class=\"dataframe\">\n",
       "  <thead>\n",
       "    <tr style=\"text-align: right;\">\n",
       "      <th></th>\n",
       "      <th>Total count</th>\n",
       "      <th>Percent of Players</th>\n",
       "    </tr>\n",
       "    <tr>\n",
       "      <th>Gender</th>\n",
       "      <th></th>\n",
       "      <th></th>\n",
       "    </tr>\n",
       "  </thead>\n",
       "  <tbody>\n",
       "    <tr>\n",
       "      <th>Male</th>\n",
       "      <td>484</td>\n",
       "      <td>84.03</td>\n",
       "    </tr>\n",
       "    <tr>\n",
       "      <th>Female</th>\n",
       "      <td>81</td>\n",
       "      <td>14.06</td>\n",
       "    </tr>\n",
       "    <tr>\n",
       "      <th>Other</th>\n",
       "      <td>11</td>\n",
       "      <td>1.91</td>\n",
       "    </tr>\n",
       "  </tbody>\n",
       "</table>\n",
       "</div>"
      ],
      "text/plain": [
       "        Total count  Percent of Players\n",
       "Gender                                 \n",
       "Male            484               84.03\n",
       "Female           81               14.06\n",
       "Other            11                1.91"
      ]
     },
     "execution_count": 258,
     "metadata": {},
     "output_type": "execute_result"
    }
   ],
   "source": [
    "# groupby() function groups the dataset according to desired column and .get_group() retrieves the desired row\n",
    "male = purchase_data.groupby([\"Gender\"]).get_group((\"Male\"))\n",
    "count_male = len(male[\"SN\"].value_counts())\n",
    "male_percent = round((count_male/player_count)*100,2)\n",
    "\n",
    "female = purchase_data.groupby([\"Gender\"]).get_group((\"Female\"))\n",
    "count_female = len(female[\"SN\"].value_counts())\n",
    "female_percent = round(count_female/player_count*100,2)\n",
    "\n",
    "other= purchase_data.groupby([\"Gender\"]).get_group((\"Other / Non-Disclosed\"))\n",
    "count_other = len(other[\"SN\"].value_counts())\n",
    "other_percent = round(count_other/player_count*100,2)\n",
    "other_percent\n",
    "\n",
    "summary = {\"Total count\": (count_male,count_female,count_other),\n",
    "                    \"Percent of Players\": [male_percent,female_percent,other_percent],\n",
    "                    \"Gender\": [\"Male\",\"Female\",\"Other\"]}\n",
    "summary1 = pd.DataFrame(summary)\n",
    "# set_index() function applies indexing to the desired column\n",
    "# sourced from https://pandas.pydata.org/docs/reference/api/pandas.DataFrame.set_index.html\n",
    "summary2 = summary1.set_index(\"Gender\") \n",
    "summary2"
   ]
  },
  {
   "cell_type": "markdown",
   "id": "0470beb7",
   "metadata": {},
   "source": [
    "# Purchasing analysis (Gender)"
   ]
  },
  {
   "cell_type": "code",
   "execution_count": 259,
   "id": "84911308",
   "metadata": {},
   "outputs": [
    {
     "data": {
      "text/html": [
       "<div>\n",
       "<style scoped>\n",
       "    .dataframe tbody tr th:only-of-type {\n",
       "        vertical-align: middle;\n",
       "    }\n",
       "\n",
       "    .dataframe tbody tr th {\n",
       "        vertical-align: top;\n",
       "    }\n",
       "\n",
       "    .dataframe thead th {\n",
       "        text-align: right;\n",
       "    }\n",
       "</style>\n",
       "<table border=\"1\" class=\"dataframe\">\n",
       "  <thead>\n",
       "    <tr style=\"text-align: right;\">\n",
       "      <th></th>\n",
       "      <th>Purchase Count</th>\n",
       "      <th>Average Purchase Price</th>\n",
       "      <th>Total Purchase Value</th>\n",
       "      <th>Avg Total Purchase per Person</th>\n",
       "    </tr>\n",
       "    <tr>\n",
       "      <th>Gender</th>\n",
       "      <th></th>\n",
       "      <th></th>\n",
       "      <th></th>\n",
       "      <th></th>\n",
       "    </tr>\n",
       "  </thead>\n",
       "  <tbody>\n",
       "    <tr>\n",
       "      <th>Male</th>\n",
       "      <td>113</td>\n",
       "      <td>3.20</td>\n",
       "      <td>361.94</td>\n",
       "      <td>4.47</td>\n",
       "    </tr>\n",
       "    <tr>\n",
       "      <th>Female</th>\n",
       "      <td>652</td>\n",
       "      <td>3.02</td>\n",
       "      <td>1967.64</td>\n",
       "      <td>4.07</td>\n",
       "    </tr>\n",
       "    <tr>\n",
       "      <th>Other</th>\n",
       "      <td>15</td>\n",
       "      <td>3.35</td>\n",
       "      <td>50.19</td>\n",
       "      <td>4.56</td>\n",
       "    </tr>\n",
       "  </tbody>\n",
       "</table>\n",
       "</div>"
      ],
      "text/plain": [
       "        Purchase Count  Average Purchase Price  Total Purchase Value  \\\n",
       "Gender                                                                 \n",
       "Male               113                    3.20                361.94   \n",
       "Female             652                    3.02               1967.64   \n",
       "Other               15                    3.35                 50.19   \n",
       "\n",
       "        Avg Total Purchase per Person  \n",
       "Gender                                 \n",
       "Male                             4.47  \n",
       "Female                           4.07  \n",
       "Other                            4.56  "
      ]
     },
     "execution_count": 259,
     "metadata": {},
     "output_type": "execute_result"
    }
   ],
   "source": [
    "\n",
    "avg_countmale=len(male)\n",
    "avg_countfemale=len(female)\n",
    "avg_countother=len(other)\n",
    "\n",
    "avg_male = round(male[\"Price\"].sum()/avg_countmale,2)\n",
    "avg_female = round(female[\"Price\"].sum()/avg_countfemale,2)\n",
    "avg_other = round(other[\"Price\"].sum()/avg_countother,2)\n",
    "\n",
    "avg_ppMale=male[\"Price\"].sum()\n",
    "avg_ppFemale=female[\"Price\"].sum()\n",
    "avg_ppOther=other[\"Price\"].sum()\n",
    "\n",
    "# avg total purchase per person = (totoal purchases/count of each gender player)\n",
    "avg_totalMale=round(avg_ppMale/count_male,2)\n",
    "avg_totalFemale=round(avg_ppFemale/count_female,2)\n",
    "avg_totalOther=round(avg_ppOther/count_other,2)\n",
    "\n",
    "pa_summary={\"Purchase Count\":[avg_countfemale,avg_countmale,avg_countother],\n",
    "            \"Average Purchase Price\":[avg_female,avg_male,avg_other],\n",
    "            \"Total Purchase Value\":[avg_ppFemale,avg_ppMale,avg_ppOther],\n",
    "            \"Avg Total Purchase per Person\":[avg_totalFemale,avg_totalMale,avg_totalOther],\n",
    "            \"Gender\": [\"Male\",\"Female\",\"Other\"]}\n",
    "pa_df=pd.DataFrame(pa_summary)\n",
    "pa1_df=pa_df.set_index(\"Gender\")\n",
    "pa1_df\n"
   ]
  },
  {
   "cell_type": "markdown",
   "id": "c7811b52",
   "metadata": {},
   "source": [
    "# Age Demographics"
   ]
  },
  {
   "cell_type": "code",
   "execution_count": null,
   "id": "156f30f7",
   "metadata": {},
   "outputs": [],
   "source": [
    "bins=[]"
   ]
  },
  {
   "cell_type": "markdown",
   "id": "6ded06d8",
   "metadata": {},
   "source": []
  },
  {
   "cell_type": "code",
   "execution_count": null,
   "id": "2489c19b",
   "metadata": {},
   "outputs": [],
   "source": []
  },
  {
   "cell_type": "code",
   "execution_count": null,
   "id": "48d626dd",
   "metadata": {},
   "outputs": [],
   "source": []
  }
 ],
 "metadata": {
  "interpreter": {
   "hash": "661f11969867fd121d05aec0c89289b079589ad8eca5cd5ec765e8591bd26e44"
  },
  "kernelspec": {
   "display_name": "Python [conda env:bootcamp] *",
   "language": "python",
   "name": "python3"
  },
  "language_info": {
   "codemirror_mode": {
    "name": "ipython",
    "version": 3
   },
   "file_extension": ".py",
   "mimetype": "text/x-python",
   "name": "python",
   "nbconvert_exporter": "python",
   "pygments_lexer": "ipython3",
   "version": "3.7.13"
  }
 },
 "nbformat": 4,
 "nbformat_minor": 5
}
